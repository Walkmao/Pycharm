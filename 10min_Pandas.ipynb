{
 "cells": [
  {
   "cell_type": "code",
   "execution_count": null,
   "metadata": {
    "collapsed": true
   },
   "outputs": [],
   "source": [
    "import pandas as pd\n",
    "\n",
    "import  numpy as np\n"
   ]
  },
  {
   "cell_type": "markdown",
   "metadata": {
    "collapsed": true
   },
   "source": [
    "#Object creation\n"
   ]
  },
  {
   "cell_type": "code",
   "execution_count": 12,
   "metadata": {},
   "outputs": [
    {
     "data": {
      "text/plain": [
       "RangeIndex(start=0, stop=6, step=1)"
      ]
     },
     "execution_count": 12,
     "metadata": {},
     "output_type": "execute_result"
    }
   ],
   "source": [
    "#Creating a Series by passing a list of values\n",
    "\n",
    "s = pd.Series([1,3,5,np.nan,6,8])\n",
    "\n",
    "s\n",
    "\n",
    "s[:3].values\n",
    "\n",
    "s.index"
   ]
  },
  {
   "cell_type": "code",
   "execution_count": 8,
   "metadata": {},
   "outputs": [
    {
     "name": "stdout",
     "output_type": "stream",
     "text": [
      "DatetimeIndex(['2019-08-01', '2019-08-02', '2019-08-03', '2019-08-04',\n               '2019-08-05', '2019-08-06'],\n              dtype='datetime64[ns]', freq='D')\n"
     ]
    }
   ],
   "source": [
    "#Creating a DataFrame by passing a Numpy array\n",
    "\n",
    "dates = pd.date_range('2019-08-01',periods=6)\n",
    "\n",
    "print(dates)"
   ]
  },
  {
   "cell_type": "code",
   "execution_count": 47,
   "metadata": {},
   "outputs": [
    {
     "data": {
      "text/html": [
       "<div>\n",
       "<style scoped>\n",
       "    .dataframe tbody tr th:only-of-type {\n",
       "        vertical-align: middle;\n",
       "    }\n",
       "\n",
       "    .dataframe tbody tr th {\n",
       "        vertical-align: top;\n",
       "    }\n",
       "\n",
       "    .dataframe thead th {\n",
       "        text-align: right;\n",
       "    }\n",
       "</style>\n",
       "<table border=\"1\" class=\"dataframe\">\n",
       "  <thead>\n",
       "    <tr style=\"text-align: right;\">\n",
       "      <th></th>\n",
       "      <th>A</th>\n",
       "      <th>B</th>\n",
       "      <th>C</th>\n",
       "      <th>D</th>\n",
       "    </tr>\n",
       "  </thead>\n",
       "  <tbody>\n",
       "    <tr>\n",
       "      <th>2019-08-01</th>\n",
       "      <td>-0.118227</td>\n",
       "      <td>-0.432908</td>\n",
       "      <td>0.894410</td>\n",
       "      <td>0.220887</td>\n",
       "    </tr>\n",
       "    <tr>\n",
       "      <th>2019-08-02</th>\n",
       "      <td>0.794405</td>\n",
       "      <td>0.691729</td>\n",
       "      <td>0.022593</td>\n",
       "      <td>-0.676335</td>\n",
       "    </tr>\n",
       "    <tr>\n",
       "      <th>2019-08-03</th>\n",
       "      <td>1.081920</td>\n",
       "      <td>-1.098406</td>\n",
       "      <td>0.432010</td>\n",
       "      <td>-0.141035</td>\n",
       "    </tr>\n",
       "    <tr>\n",
       "      <th>2019-08-04</th>\n",
       "      <td>0.307171</td>\n",
       "      <td>-0.715947</td>\n",
       "      <td>-0.111983</td>\n",
       "      <td>0.396901</td>\n",
       "    </tr>\n",
       "    <tr>\n",
       "      <th>2019-08-05</th>\n",
       "      <td>1.898982</td>\n",
       "      <td>-0.655220</td>\n",
       "      <td>-0.072289</td>\n",
       "      <td>-0.147002</td>\n",
       "    </tr>\n",
       "    <tr>\n",
       "      <th>2019-08-06</th>\n",
       "      <td>0.561997</td>\n",
       "      <td>0.763167</td>\n",
       "      <td>0.234878</td>\n",
       "      <td>1.063613</td>\n",
       "    </tr>\n",
       "  </tbody>\n",
       "</table>\n",
       "</div>"
      ],
      "text/plain": [
       "<div>\n",
       "<style scoped>\n",
       "    .dataframe tbody tr th:only-of-type {\n",
       "        vertical-align: middle;\n",
       "    }\n",
       "\n",
       "    .dataframe tbody tr th {\n",
       "        vertical-align: top;\n",
       "    }\n",
       "\n",
       "    .dataframe thead th {\n",
       "        text-align: right;\n",
       "    }\n",
       "</style>\n",
       "<table border=\"1\" class=\"dataframe\">\n",
       "  <thead>\n",
       "    <tr style=\"text-align: right;\">\n",
       "      <th></th>\n",
       "      <th>A</th>\n",
       "      <th>B</th>\n",
       "      <th>C</th>\n",
       "      <th>D</th>\n",
       "    </tr>\n",
       "  </thead>\n",
       "  <tbody>\n",
       "    <tr>\n",
       "      <th>2019-08-01</th>\n",
       "      <td>-0.118227</td>\n",
       "      <td>-0.432908</td>\n",
       "      <td>0.894410</td>\n",
       "      <td>0.220887</td>\n",
       "    </tr>\n",
       "    <tr>\n",
       "      <th>2019-08-02</th>\n",
       "      <td>0.794405</td>\n",
       "      <td>0.691729</td>\n",
       "      <td>0.022593</td>\n",
       "      <td>-0.676335</td>\n",
       "    </tr>\n",
       "    <tr>\n",
       "      <th>2019-08-03</th>\n",
       "      <td>1.081920</td>\n",
       "      <td>-1.098406</td>\n",
       "      <td>0.432010</td>\n",
       "      <td>-0.141035</td>\n",
       "    </tr>\n",
       "    <tr>\n",
       "      <th>2019-08-04</th>\n",
       "      <td>0.307171</td>\n",
       "      <td>-0.715947</td>\n",
       "      <td>-0.111983</td>\n",
       "      <td>0.396901</td>\n",
       "    </tr>\n",
       "    <tr>\n",
       "      <th>2019-08-05</th>\n",
       "      <td>1.898982</td>\n",
       "      <td>-0.655220</td>\n",
       "      <td>-0.072289</td>\n",
       "      <td>-0.147002</td>\n",
       "    </tr>\n",
       "    <tr>\n",
       "      <th>2019-08-06</th>\n",
       "      <td>0.561997</td>\n",
       "      <td>0.763167</td>\n",
       "      <td>0.234878</td>\n",
       "      <td>1.063613</td>\n",
       "    </tr>\n",
       "  </tbody>\n",
       "</table>\n",
       "</div>"
      ]
     },
     "execution_count": 47,
     "metadata": {},
     "output_type": "execute_result"
    }
   ],
   "source": [
    "df = pd.DataFrame(np.random.randn(6,4),index=dates,columns=list('ABCD'))\n",
    "\n",
    "df"
   ]
  },
  {
   "cell_type": "markdown",
   "metadata": {},
   "source": [
    "#Viewing data\n",
    "See the Basics section.\n",
    "\n",
    "Here is how to view the top and bottom rows of the frame:\n"
   ]
  },
  {
   "cell_type": "code",
   "execution_count": 33,
   "metadata": {},
   "outputs": [
    {
     "data": {
      "text/plain": [
       "(DatetimeIndex(['2019-08-01', '2019-08-02', '2019-08-03', '2019-08-04',\n                '2019-08-05', '2019-08-06'],\n               dtype='datetime64[ns]', freq='D'),\n Index(['A', 'B', 'C', 'D'], dtype='object'))"
      ]
     },
     "execution_count": 33,
     "metadata": {},
     "output_type": "execute_result"
    }
   ],
   "source": [
    "#Create a DataFreme by passing a dict of objects\n",
    "\n",
    "dic = {'A': 1.,\n",
    "       'B': pd.Timestamp('20130102'),\n",
    "       'C': pd.Series(1, index=list(range(4)), dtype='float32'),\n",
    "       'D': np.array([3] * 4, dtype='int32'),\n",
    "       'E': pd.Categorical([\"test\", \"train\", \"test\", \"train\"]),\n",
    "       'F': 'foo'}\n",
    "\n",
    "df2 = pd.DataFrame(dic)\n",
    "\n",
    "df2\n",
    "df2.dtypes\n",
    "df2.head(2)\n",
    "df2.tail(1)\n",
    "df.index,df.columns"
   ]
  },
  {
   "cell_type": "code",
   "execution_count": 38,
   "metadata": {},
   "outputs": [
    {
     "data": {
      "text/plain": [
       "(array([[-0.95092326, -2.50612337,  0.2351011 , -0.34296781],\n        [ 0.30798906, -1.12911531,  1.02785136,  0.61249784],\n        [-0.86263065,  0.71904744, -0.14389165,  0.29002972],\n        [ 0.36192165,  1.43031187,  0.15082034, -1.6457973 ],\n        [-0.38429179, -0.47860672, -0.05010046, -0.29023026],\n        [ 0.3060088 ,  0.33202355,  1.22479378,  0.59459977]]),\n array([[1.0, Timestamp('2013-01-02 00:00:00'), 1.0, 3, 'test', 'foo'],\n        [1.0, Timestamp('2013-01-02 00:00:00'), 1.0, 3, 'train', 'foo'],\n        [1.0, Timestamp('2013-01-02 00:00:00'), 1.0, 3, 'test', 'foo'],\n        [1.0, Timestamp('2013-01-02 00:00:00'), 1.0, 3, 'train', 'foo']],\n       dtype=object))"
      ]
     },
     "execution_count": 38,
     "metadata": {},
     "output_type": "execute_result"
    }
   ],
   "source": [
    "#NumPy arrays have one dtype for the entire array, while pandas DataFrames have one dtype per column.\n",
    "\n",
    "#first for df,second,for df2\n",
    "\n",
    "df.to_numpy(),df2.to_numpy()"
   ]
  },
  {
   "cell_type": "code",
   "execution_count": 46,
   "metadata": {},
   "outputs": [
    {
     "data": {
      "text/html": [
       "<div>\n",
       "<style scoped>\n",
       "    .dataframe tbody tr th:only-of-type {\n",
       "        vertical-align: middle;\n",
       "    }\n",
       "\n",
       "    .dataframe tbody tr th {\n",
       "        vertical-align: top;\n",
       "    }\n",
       "\n",
       "    .dataframe thead th {\n",
       "        text-align: right;\n",
       "    }\n",
       "</style>\n",
       "<table border=\"1\" class=\"dataframe\">\n",
       "  <thead>\n",
       "    <tr style=\"text-align: right;\">\n",
       "      <th></th>\n",
       "      <th>A</th>\n",
       "      <th>B</th>\n",
       "      <th>C</th>\n",
       "      <th>D</th>\n",
       "    </tr>\n",
       "  </thead>\n",
       "  <tbody>\n",
       "    <tr>\n",
       "      <th>2019-08-06</th>\n",
       "      <td>0.938762</td>\n",
       "      <td>-0.241658</td>\n",
       "      <td>1.824862</td>\n",
       "      <td>-0.244101</td>\n",
       "    </tr>\n",
       "    <tr>\n",
       "      <th>2019-08-05</th>\n",
       "      <td>-0.126627</td>\n",
       "      <td>-0.359939</td>\n",
       "      <td>-0.578495</td>\n",
       "      <td>1.061846</td>\n",
       "    </tr>\n",
       "    <tr>\n",
       "      <th>2019-08-02</th>\n",
       "      <td>1.600899</td>\n",
       "      <td>-0.613406</td>\n",
       "      <td>-0.247903</td>\n",
       "      <td>-0.866910</td>\n",
       "    </tr>\n",
       "    <tr>\n",
       "      <th>2019-08-01</th>\n",
       "      <td>-0.270403</td>\n",
       "      <td>-0.791456</td>\n",
       "      <td>-1.344718</td>\n",
       "      <td>2.180516</td>\n",
       "    </tr>\n",
       "    <tr>\n",
       "      <th>2019-08-04</th>\n",
       "      <td>-0.572960</td>\n",
       "      <td>-0.902741</td>\n",
       "      <td>1.638219</td>\n",
       "      <td>0.305528</td>\n",
       "    </tr>\n",
       "    <tr>\n",
       "      <th>2019-08-03</th>\n",
       "      <td>-1.543372</td>\n",
       "      <td>-0.970794</td>\n",
       "      <td>-0.584801</td>\n",
       "      <td>-0.103517</td>\n",
       "    </tr>\n",
       "  </tbody>\n",
       "</table>\n",
       "</div>"
      ],
      "text/plain": [
       "<div>\n",
       "<style scoped>\n",
       "    .dataframe tbody tr th:only-of-type {\n",
       "        vertical-align: middle;\n",
       "    }\n",
       "\n",
       "    .dataframe tbody tr th {\n",
       "        vertical-align: top;\n",
       "    }\n",
       "\n",
       "    .dataframe thead th {\n",
       "        text-align: right;\n",
       "    }\n",
       "</style>\n",
       "<table border=\"1\" class=\"dataframe\">\n",
       "  <thead>\n",
       "    <tr style=\"text-align: right;\">\n",
       "      <th></th>\n",
       "      <th>A</th>\n",
       "      <th>B</th>\n",
       "      <th>C</th>\n",
       "      <th>D</th>\n",
       "    </tr>\n",
       "  </thead>\n",
       "  <tbody>\n",
       "    <tr>\n",
       "      <th>2019-08-06</th>\n",
       "      <td>0.938762</td>\n",
       "      <td>-0.241658</td>\n",
       "      <td>1.824862</td>\n",
       "      <td>-0.244101</td>\n",
       "    </tr>\n",
       "    <tr>\n",
       "      <th>2019-08-05</th>\n",
       "      <td>-0.126627</td>\n",
       "      <td>-0.359939</td>\n",
       "      <td>-0.578495</td>\n",
       "      <td>1.061846</td>\n",
       "    </tr>\n",
       "    <tr>\n",
       "      <th>2019-08-02</th>\n",
       "      <td>1.600899</td>\n",
       "      <td>-0.613406</td>\n",
       "      <td>-0.247903</td>\n",
       "      <td>-0.866910</td>\n",
       "    </tr>\n",
       "    <tr>\n",
       "      <th>2019-08-01</th>\n",
       "      <td>-0.270403</td>\n",
       "      <td>-0.791456</td>\n",
       "      <td>-1.344718</td>\n",
       "      <td>2.180516</td>\n",
       "    </tr>\n",
       "    <tr>\n",
       "      <th>2019-08-04</th>\n",
       "      <td>-0.572960</td>\n",
       "      <td>-0.902741</td>\n",
       "      <td>1.638219</td>\n",
       "      <td>0.305528</td>\n",
       "    </tr>\n",
       "    <tr>\n",
       "      <th>2019-08-03</th>\n",
       "      <td>-1.543372</td>\n",
       "      <td>-0.970794</td>\n",
       "      <td>-0.584801</td>\n",
       "      <td>-0.103517</td>\n",
       "    </tr>\n",
       "  </tbody>\n",
       "</table>\n",
       "</div>"
      ]
     },
     "execution_count": 46,
     "metadata": {},
     "output_type": "execute_result"
    }
   ],
   "source": [
    "#describe() shows a quick statistic summary of your data:\n",
    "\n",
    "df.describe()   #描述性统计分析\n",
    "df.T   #转置\n",
    "df.sort_values(by='B',ascending=False)  #排序"
   ]
  },
  {
   "cell_type": "markdown",
   "metadata": {},
   "source": [
    "#Selection\n",
    "Note While standard Python / Numpy expressions for selecting and setting are intuitive and come in handy for interactive work, for production code, we recommend the optimized pandas data access methods, .at, .iat, .loc and .iloc."
   ]
  },
  {
   "cell_type": "code",
   "execution_count": null,
   "metadata": {},
   "outputs": [],
   "source": []
  }
 ],
 "metadata": {
  "kernelspec": {
   "display_name": "Python 2",
   "language": "python",
   "name": "python2"
  },
  "language_info": {
   "codemirror_mode": {
    "name": "ipython",
    "version": 2
   },
   "file_extension": ".py",
   "mimetype": "text/x-python",
   "name": "python",
   "nbconvert_exporter": "python",
   "pygments_lexer": "ipython2",
   "version": "2.7.6"
  }
 },
 "nbformat": 4,
 "nbformat_minor": 0
}
