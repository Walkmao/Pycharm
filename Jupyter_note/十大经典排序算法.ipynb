{
 "cells": [
  {
   "cell_type": "markdown",
   "metadata": {
    "collapsed": true
   },
   "source": [
    "### 排序算法是《数据结构与算法》中最基本的算法之一。\n",
    "\n",
    "排序算法可以分为内部排序和外部排序，内部排序是数据记录在内存中进行排序，而外部排序是因排序的数据很大，一次不能容纳全部的排序记录，在排序过程中需要访问外存。常见的内部排序算法有：插入排序、希尔排序、选择排序、冒泡排序、归并排序、快速排序、堆排序、基数排序等。用一张图概括：\n",
    "![image.png](attachment:image.png)"
   ]
  },
  {
   "cell_type": "markdown",
   "metadata": {},
   "source": [
    "#### 1.冒泡排序\n",
    "算法思想：  \n",
    "a.比较相邻的元素。如果第一个比第二个大，就交换他们两个。  \n",
    "b.对每一对相邻元素作同样的工作，从开始第一对到结尾的最后一对。这步做完后，最后的元素会是最大的数。  \n",
    "c.针对所有的元素重复以上的步骤，除了最后一个。  \n",
    "d.持续每次对越来越少的元素重复上面的步骤，直到没有任何一对数字需要比较。"
   ]
  },
  {
   "cell_type": "code",
   "execution_count": null,
   "metadata": {},
   "outputs": [],
   "source": [
    "def main():\n",
    "    a = [2,1,4,9]\n",
    "    #bubbleSort(a)\n",
    "    #selectionSort(a)\n",
    "    insertSort(a)\n",
    "    print(a)\n",
    "    %%time\n",
    "if __name__ == '__main__':\n",
    "    main()"
   ]
  },
  {
   "cell_type": "code",
   "execution_count": null,
   "metadata": {},
   "outputs": [],
   "source": [
    "def bubbleSort(arr):\n",
    "    k = 0\n",
    "    for i in range(1,len(arr)):\n",
    "        for j in range(0,len(arr)-1):\n",
    "            if arr[j] > arr[j+1]:\n",
    "                arr[j], arr[j + 1] = arr[j + 1], arr[j]\n",
    "#                 k = arr[j]\n",
    "#                 arr[j] = arr[j+1]\n",
    "#                 arr[j+1] = k  \n",
    "     print('冒泡排序：')\n",
    "    return arr"
   ]
  },
  {
   "cell_type": "markdown",
   "metadata": {},
   "source": [
    "#### 2.选择排序\n",
    "1）算法思想  \n",
    "a.首先在未排序序列中找到最小（大）元素，存放到排序序列的起始位置  \n",
    "b.再从剩余未排序元素中继续寻找最小（大）元素，然后放到已排序序列的末尾。  \n",
    "c.重复第二步，直到所有元素均排序完毕。"
   ]
  },
  {
   "cell_type": "code",
   "execution_count": 21,
   "metadata": {},
   "outputs": [],
   "source": [
    "def selectionSort(arr):\n",
    "    for i in range(len(arr)-1):\n",
    "        minIndex = i\n",
    "        for j in range(i+1,len(arr)):\n",
    "            if arr[j] < arr[minIndex]:\n",
    "                minIndex = j\n",
    "            if i != minIndex:\n",
    "                arr[i], arr[minIndex] = arr[minIndex],arr[i]\n",
    "    print('选择排序：')\n",
    "    return arr"
   ]
  },
  {
   "cell_type": "markdown",
   "metadata": {},
   "source": [
    "#### 3.插入排序 "
   ]
  },
  {
   "cell_type": "code",
   "execution_count": null,
   "metadata": {},
   "outputs": [],
   "source": [
    "def insertSort(arr):\n",
    "    for i in range(len(arr)):\n",
    "        preIndex = i-1\n",
    "        current = arr[i]\n",
    "        while preIndex >=0 and arr[preIndex] > current:\n",
    "            arr[preIndex+1] = arr[preIndex]\n",
    "        arr[preIndex+1] = current\n",
    "    print('插入排序：')\n",
    "    return arr"
   ]
  },
  {
   "cell_type": "markdown",
   "metadata": {},
   "source": [
    "#### 4.快速排序 "
   ]
  },
  {
   "cell_type": "code",
   "execution_count": null,
   "metadata": {},
   "outputs": [],
   "source": []
  }
 ],
 "metadata": {
  "kernelspec": {
   "display_name": "Python 3",
   "language": "python",
   "name": "python3"
  }
 },
 "nbformat": 4,
 "nbformat_minor": 1
}
