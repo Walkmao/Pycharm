{
 "cells": [
  {
   "cell_type": "markdown",
   "metadata": {},
   "source": [
    "## 数据类型"
   ]
  },
  {
   "cell_type": "markdown",
   "metadata": {},
   "source": [
    "| name | Notation | Daclaration |\n",
    "| ------ | ------ | ------ |\n",
    "| Integer | int | a=10 |\n",
    "| Flating | float | b = 3.14 |\n",
    "| Complex |  complex | c = 1 + 2j |\n",
    "| String | str | d = 'python' |\n",
    " "
   ]
  },
  {
   "cell_type": "markdown",
   "metadata": {},
   "source": [
    "## 数据结构"
   ]
  },
  {
   "cell_type": "markdown",
   "metadata": {},
   "source": [
    "| name | Notation | Declaration e.g. |\n",
    "| ---- | ----- | ----- |\n",
    "| Tuple | tuple | b = (1,2,3,'data') |\n",
    "| List | list | c = [1,2,3,'data'] |\n",
    "| Dictionary | dict | d = {'name':'mirco','contry':'china'} |\n",
    "| Set | set | e = set(['u','ud']) |\n",
    "\n",
    "- 元组（tuple）只有几种方法可以更改。\n",
    "- 列表（list）比元组更灵活。\n",
    "- 字典（dict）是一个键值对存储对象。\n",
    "- 集合（set）是对象中唯一的无序集合对象。"
   ]
  },
  {
   "cell_type": "markdown",
   "metadata": {},
   "source": [
    "## 条件语句"
   ]
  },
  {
   "cell_type": "markdown",
   "metadata": {},
   "source": [
    "- 条件控制元素包括if，else和elif。\n",
    "- 对于条件语句，我们有如下几种：\n",
    "\n",
    "| name | Notation |\n",
    "| ---- | ----- |\n",
    "| larger | < |\n",
    "| smaller | == |\n",
    "| equal | = |\n",
    "\n",
    "对于多条件同时使用的情况，我么使用and, or 或者 not作为关键字来相互衔接"
   ]
  },
  {
   "cell_type": "markdown",
   "metadata": {},
   "source": [
    "### 示例和练习"
   ]
  },
  {
   "cell_type": "code",
   "execution_count": 10,
   "metadata": {},
   "outputs": [
    {
     "data": {
      "text/plain": [
       "[15, 23, 27]"
      ]
     },
     "execution_count": 10,
     "metadata": {},
     "output_type": "execute_result"
    }
   ],
   "source": [
    "a = [23,15,27]\n",
    "b = []\n",
    "if a[0] < a[1] and a[0] < a[2]:\n",
    "    b.append(a[0])\n",
    "    if a[1] < a[2]:\n",
    "        b.append(a[1])\n",
    "        b.append(a[2])\n",
    "    else:\n",
    "        b.append(a[2])\n",
    "        b.append(a[1])\n",
    "elif a[0] > a [1] and a[1] < a[2]:\n",
    "    b.append(a[1])\n",
    "    if a[0] > a[2]:\n",
    "        b.append(a[2])\n",
    "        b.append(a[0])\n",
    "    else:\n",
    "        b.append(a[0])\n",
    "        b.append(a[2])\n",
    "b"
   ]
  },
  {
   "cell_type": "markdown",
   "metadata": {},
   "source": [
    "## 循环语句"
   ]
  },
  {
   "cell_type": "markdown",
   "metadata": {},
   "source": [
    "两个常用的循环语句：\n",
    "\n",
    "- for ... in: statement A\n",
    "是循环中最常用的语句，通常与range（start,end,step）一起使用,start为起始值，end为结束值，step为步长。 例如，\n",
    "range(0,8,1)  给出[0，1，2，3，4，5，6，7]\n",
    "\n",
    "- while.....: A\n",
    "将会执行 A 语句，知道满足while条件\n",
    "\n",
    "- enumererate:\n",
    "You can combine tuple unpacking with the  enumerate function to loop over both the\n",
    "items and their index.\n",
    "\n",
    "- zip function:\n",
    "zip 组合多个列表元素并将它们放到元组中去，直到最短的"
   ]
  },
  {
   "cell_type": "markdown",
   "metadata": {},
   "source": [
    "### 示例"
   ]
  },
  {
   "cell_type": "code",
   "execution_count": null,
   "metadata": {
    "collapsed": true
   },
   "outputs": [
    {
     "name": "stdout",
     "output_type": "stream",
     "text": [
      "1\n",
      "4\n",
      "7\n",
      "1.0\n",
      "0.5\n",
      "0.3333333333333333\n",
      "0\n",
      "0\n",
      "1\n",
      "2\n",
      "3\n",
      "4\n",
      "1\n",
      "0\n",
      "1\n",
      "2\n",
      "3\n",
      "4\n",
      "2\n",
      "0\n",
      "1\n",
      "2\n",
      "3\n",
      "4\n",
      "3\n",
      "0\n",
      "1\n",
      "2\n",
      "3\n",
      "4\n",
      "4\n",
      "0\n",
      "1\n",
      "2\n",
      "3\n",
      "4\n",
      "5\n",
      "0\n",
      "1\n",
      "2\n",
      "3\n",
      "4\n",
      "6\n",
      "0\n",
      "1\n",
      "2\n",
      "3\n",
      "4\n",
      "7\n",
      "0\n",
      "1\n",
      "2\n",
      "3\n",
      "4\n",
      "8\n",
      "0\n",
      "1\n",
      "2\n",
      "3\n",
      "4\n",
      "9\n",
      "0\n",
      "1\n",
      "2\n",
      "3\n",
      "4\n"
     ]
    },
    {
     "ename": "NameError",
     "evalue": "name 'O' is not defined",
     "traceback": [
      "\u001b[1;31m---------------------------------------------------------------------------\u001b[0m",
      "\u001b[1;31mNameError\u001b[0m                                 Traceback (most recent call last)",
      "\u001b[1;32m<ipython-input-27-a605cef17b5c>\u001b[0m in \u001b[0;36m<module>\u001b[1;34m\u001b[0m\n\u001b[0;32m     13\u001b[0m \u001b[1;33m\u001b[0m\u001b[0m\n\u001b[0;32m     14\u001b[0m \u001b[1;32mfor\u001b[0m \u001b[0mi\u001b[0m \u001b[1;32min\u001b[0m \u001b[0mrange\u001b[0m\u001b[1;33m(\u001b[0m\u001b[1;36m300\u001b[0m\u001b[1;33m,\u001b[0m \u001b[1;36m351\u001b[0m\u001b[1;33m)\u001b[0m\u001b[1;33m:\u001b[0m\u001b[1;33m\u001b[0m\u001b[1;33m\u001b[0m\u001b[0m\n\u001b[1;32m---> 15\u001b[1;33m     \u001b[1;32mif\u001b[0m \u001b[0mi\u001b[0m \u001b[1;33m%\u001b[0m \u001b[1;36m17\u001b[0m \u001b[1;33m==\u001b[0m \u001b[0mO\u001b[0m\u001b[1;33m:\u001b[0m\u001b[1;33m\u001b[0m\u001b[1;33m\u001b[0m\u001b[0m\n\u001b[0m\u001b[0;32m     16\u001b[0m         \u001b[0mprint\u001b[0m \u001b[1;33m(\u001b[0m\u001b[0mi\u001b[0m\u001b[1;33m)\u001b[0m\u001b[1;33m\u001b[0m\u001b[1;33m\u001b[0m\u001b[0m\n\u001b[0;32m     17\u001b[0m         \u001b[1;32mbreak\u001b[0m\u001b[1;33m\u001b[0m\u001b[1;33m\u001b[0m\u001b[0m\n",
      "\u001b[1;31mNameError\u001b[0m: name 'O' is not defined"
     ],
     "output_type": "error"
    }
   ],
   "source": [
    "# for\n",
    "for i in range(1,10,3):\n",
    "    print(i)\n",
    "    \n",
    "x = [1.0, 2.0, 3.0]\n",
    "for n in x:\n",
    "    print(1 / n)\n",
    "    \n",
    "for  i  in range (10):\n",
    "     print (i)     \n",
    "     for j in range (5):\n",
    "         print (j)\n",
    "            \n",
    "for i in range(300, 351):\n",
    "    if i % 17 == O:\n",
    "        print (i)\n",
    "        break\n",
    "    else :\n",
    "        cantinue"
   ]
  },
  {
   "cell_type": "code",
   "execution_count": 24,
   "metadata": {
    "collapsed": true
   },
   "outputs": [
    {
     "name": "stdout",
     "output_type": "stream",
     "text": [
      "1\n",
      "3\n",
      "6\n",
      "10\n",
      "15\n",
      "21\n",
      "28\n",
      "36\n",
      "45\n",
      "55\n"
     ]
    }
   ],
   "source": [
    "# while\n",
    "a = 0\n",
    "sum = 0\n",
    "while a < 10:\n",
    "    a += 1\n",
    "    sum += a\n",
    "    print(sum)"
   ]
  },
  {
   "cell_type": "code",
   "execution_count": 15,
   "metadata": {},
   "outputs": [
    {
     "name": "stdout",
     "output_type": "stream",
     "text": [
      "Found a negative number at index  2\n",
      "Found a negative number at index  5\n"
     ]
    }
   ],
   "source": [
    "# enumerate function\n",
    "\n",
    "x = [1, 3, -7, 4, 9, -5, 4]\n",
    "for i, n in enumerate(x):\n",
    "    if n < 0:\n",
    "        print(\"Found a negative number at index \", i)"
   ]
  },
  {
   "cell_type": "code",
   "execution_count": 26,
   "metadata": {},
   "outputs": [
    {
     "data": {
      "text/plain": [
       "[(1, 'a'), (2, 'b'), (3, 'c')]"
      ]
     },
     "execution_count": 26,
     "metadata": {},
     "output_type": "execute_result"
    }
   ],
   "source": [
    "# zip function\n",
    "x = [1,2,3,4]\n",
    "y = ['a','b','c']\n",
    "z = zip(x,y)\n",
    "list(z)"
   ]
  },
  {
   "cell_type": "markdown",
   "metadata": {},
   "source": [
    "## 列表"
   ]
  },
  {
   "cell_type": "code",
   "execution_count": null,
   "metadata": {},
   "outputs": [
    {
     "data": {
      "text/plain": [
       "[1, 2, 3.14, 'data', [4, 5]]"
      ]
     },
     "execution_count": 3,
     "metadata": {},
     "output_type": "execute_result"
    }
   ],
   "source": [
    "l = [1,2,3.14,'data']\n",
    "type(l)\n",
    "l.append([4,5])\n",
    "l"
   ]
  }
 ],
 "metadata": {
  "kernelspec": {
   "display_name": "Python 3",
   "language": "python",
   "name": "python3"
  },
  "language_info": {
   "codemirror_mode": {
    "name": "ipython",
    "version": 3
   },
   "file_extension": ".py",
   "mimetype": "text/x-python",
   "name": "python",
   "nbconvert_exporter": "python",
   "pygments_lexer": "ipython3",
   "version": "3.7.2"
  },
  "toc": {
   "base_numbering": 1.0,
   "nav_menu": {},
   "number_sections": true,
   "sideBar": true,
   "skip_h1_title": false,
   "title_cell": "Table of Contents",
   "title_sidebar": "Contents",
   "toc_cell": false,
   "toc_position": {},
   "toc_section_display": true,
   "toc_window_display": false
  }
 },
 "nbformat": 4,
 "nbformat_minor": 2
}
