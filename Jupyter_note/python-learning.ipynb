{
 "cells": [
  {
   "cell_type": "markdown",
   "metadata": {
    "collapsed": true
   },
   "source": [
    "# Python编程：从入门到实践-类"
   ]
  },
  {
   "cell_type": "markdown",
   "metadata": {},
   "source": [
    "## 9.2 使用类和实例"
   ]
  },
  {
   "cell_type": "markdown",
   "metadata": {},
   "source": [
    "#置顶 ：快捷键查询  \n",
    "\n",
    "1.Ctrl + Shift + P  #调出命令面板\n",
    "\n",
    "2.Help > keyboard Shortcuts"
   ]
  },
  {
   "cell_type": "code",
   "execution_count": null,
   "metadata": {},
   "outputs": [
    {
     "name": "stdout",
     "output_type": "stream",
     "text": [
      "Whillieis now sitting\n",
      "Whillierolled voer!\n"
     ]
    }
   ],
   "source": [
    "# 1.Dog 类\n",
    "class Dog():\n",
    "    def __init__(self,name,age):\n",
    "        self.name = name\n",
    "        self.age = age\n",
    "        \n",
    "    def sit(self):\n",
    "        print(self.name.title() + \"is now sitting\")\n",
    "        \n",
    "    def roll_over(self):\n",
    "        print(self.name.title() + \"rolled voer!\")\n",
    "\n",
    "my_dog = Dog('whillie',3)\n",
    "my_dog.name,my_dog.age\n",
    "my_dog.sit()\n",
    "my_dog.roll_over()"
   ]
  },
  {
   "cell_type": "code",
   "execution_count": null,
   "metadata": {},
   "outputs": [
    {
     "name": "stdout",
     "output_type": "stream",
     "text": [
      "This car has 0 miles on it.\n",
      "you can't roll back an meter!\n"
     ]
    }
   ],
   "source": [
    "#Car 类\n",
    "class Car():\n",
    "    def __init__(self,make,model,year):\n",
    "        self.make = make\n",
    "        self.model = model\n",
    "        self.year = year\n",
    "        self.meter_reading = 0\n",
    "        \n",
    "    def get_description(self):\n",
    "        long_name = str(self.year) + self.make + ' ' + self.model\n",
    "        return long_name.title()\n",
    "    \n",
    "    def read_odometer(self):\n",
    "        print(\"This car has \" + str(self.meter_reading) + \" miles on it.\")\n",
    "    \n",
    "    def update_meter(self,miles):\n",
    "        #self.meter_reading = miles\n",
    "        if self.meter_reading <= miles:\n",
    "            self.meter_reading = miles\n",
    "        else:\n",
    "            print(\"you can't roll back an meter!\")\n",
    "    \n",
    "    def increment_meter(self,miles):\n",
    "        self.meter_reading = + miles\n",
    "        \n",
    "my_car = Car('一汽大众','A6',2019)\n",
    "my_car.get_description()\n",
    "my_car.read_odometer()\n",
    "my_car.update_meter(-1)"
   ]
  },
  {
   "cell_type": "markdown",
   "metadata": {},
   "source": [
    "## 9.3 继承"
   ]
  },
  {
   "cell_type": "code",
   "execution_count": 34,
   "metadata": {},
   "outputs": [
    {
     "data": {
      "text/plain": [
       "'2019Test A^6'"
      ]
     },
     "execution_count": 34,
     "metadata": {},
     "output_type": "execute_result"
    }
   ],
   "source": [
    "# 创建一个简单的 ElectricCar 类版本\n",
    "class ElectricCar(Car): # 父类必须包含在当前文件中，且位于子类前面\n",
    "    '''电动汽车的独特之处'''\n",
    "    def __init__(self,make,model,year):\n",
    "        '''初始化父类的属性'''\n",
    "        super().__init__(make,model,year)  # 超类：super() 是一个特殊函数，帮助Python将父类和子类关联起来\n",
    "        self.battery_size = 70  #初始化特有属性\n",
    "    def describe_battery_size\n",
    "    \n",
    "my_test = ElectricCar('test','A^6',2019)\n",
    "my_test.get_description()"
   ]
  }
 ],
 "metadata": {
  "kernelspec": {
   "display_name": "Python 3",
   "language": "python",
   "name": "python3"
  },
  "language_info": {
   "codemirror_mode": {
    "name": "ipython",
    "version": 3
   },
   "file_extension": ".py",
   "mimetype": "text/x-python",
   "name": "python",
   "nbconvert_exporter": "python",
   "pygments_lexer": "ipython3",
   "version": "3.7.2"
  },
  "toc": {
   "base_numbering": 1.0,
   "nav_menu": {},
   "number_sections": true,
   "sideBar": true,
   "skip_h1_title": false,
   "title_cell": "Table of Contents",
   "title_sidebar": "Contents",
   "toc_cell": false,
   "toc_position": {},
   "toc_section_display": true,
   "toc_window_display": false
  }
 },
 "nbformat": 4,
 "nbformat_minor": 1
}
