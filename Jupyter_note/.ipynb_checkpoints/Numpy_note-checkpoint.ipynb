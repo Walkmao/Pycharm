{
 "cells": [
  {
   "cell_type": "code",
   "execution_count": 25,
   "metadata": {},
   "outputs": [
    {
     "data": {
      "text/plain": [
       "(array([[1, 2, 3],\n",
       "        [4, 5, 6]]), (2, 3), 1, array([1, 2, 3]))"
      ]
     },
     "execution_count": 25,
     "metadata": {},
     "output_type": "execute_result"
    }
   ],
   "source": [
    "# 数组\n",
    "import numpy as np\n",
    "\n",
    "array1 = np.array([1,2,3,4,5])\n",
    "\n",
    "array1,array1.shape\n",
    "\n",
    "array2 = np.array([[1,2,3],[4,5,6]])\n",
    "\n",
    "array2,array2.shape,array2[0,0],array2[0]\n"
   ]
  },
  {
   "cell_type": "code",
   "execution_count": 28,
   "metadata": {},
   "outputs": [
    {
     "data": {
      "text/plain": [
       "(array([-0.45965224, -0.31909784,  0.14866841,  0.45810015]),\n",
       " array([[0.35023255, 0.53037188],\n",
       "        [0.90802201, 0.51274768],\n",
       "        [0.79576815, 0.88695902],\n",
       "        [0.89989171, 0.7096904 ]]),\n",
       " array([[0.14477409, 0.34608268, 0.7504724 ],\n",
       "        [0.61048436, 0.34146446, 0.95002843],\n",
       "        [0.70734833, 0.30500139, 0.42513813],\n",
       "        [0.38933281, 0.91828029, 0.63642316]]))"
      ]
     },
     "execution_count": 28,
     "metadata": {},
     "output_type": "execute_result"
    }
   ],
   "source": [
    "#随机数\n",
    "import matplotlib.pyplot as plt\n",
    "\n",
    "#以给定的形状创建一个数组，数组元素来符合标准正态分布N(0,1) \n",
    "array3_1 = np.random.randn(4)\n",
    "\n",
    "array3_2 = np.random.random((4,2))\n",
    "\n",
    "#以给定的形状创建一个数组，并在数组中加入在[0,1]之间均匀分布的随机样本。\n",
    "array3_3 = np.random.rand(4,3)  \n",
    "                                         \n",
    "array3_1,array3_2,array3_3"
   ]
  },
  {
   "cell_type": "code",
   "execution_count": 30,
   "metadata": {},
   "outputs": [
    {
     "name": "stdout",
     "output_type": "stream",
     "text": [
      "69 ns ± 3.83 ns per loop (mean ± std. dev. of 7 runs, 10000000 loops each)\n"
     ]
    },
    {
     "data": {
      "image/png": "[encoded data removed]",
      "text/plain": [
       "<Figure size 432x288 with 1 Axes>"
      ]
     },
     "metadata": {
      "needs_background": "light"
     },
     "output_type": "display_data"
    }
   ],
   "source": [
    "plt.plot(array3_1,'ko--',color = 'g')\n",
    "\n",
    "# 官方文档中给出的用法是：numpy.random.randint(low,high=None,size=None,dtype) \n",
    "# 生成在半开半闭区间[low,high)上离散均匀分布的整数值;若high=None，则取值区间变为[0,low) \n",
    "# 用法及实现                                 \n",
    "#%timeit "
   ]
  },
  {
   "cell_type": "code",
   "execution_count": 34,
   "metadata": {},
   "outputs": [
    {
     "data": {
      "text/plain": [
       "(array([[0., 0.],\n",
       "        [0., 0.],\n",
       "        [0., 0.]]), array([[1., 1.],\n",
       "        [1., 1.],\n",
       "        [1., 1.]]))"
      ]
     },
     "execution_count": 34,
     "metadata": {},
     "output_type": "execute_result"
    }
   ],
   "source": [
    "# 元素生成\n",
    "array4_1 = np.zeros((3,2))\n",
    "\n",
    "array4_2 = np.ones((3,2))\n",
    "\n",
    "array4_1,array4_2"
   ]
  },
  {
   "cell_type": "code",
   "execution_count": 36,
   "metadata": {},
   "outputs": [
    {
     "data": {
      "text/plain": [
       "(array([0, 1, 2, 3, 4]),\n",
       " array([0, 1, 2, 3, 4]),\n",
       " array([0, 1, 2, 3, 4]),\n",
       " array([0.        , 1.57079633, 3.14159265, 4.71238898, 6.28318531]))"
      ]
     },
     "execution_count": 36,
     "metadata": {},
     "output_type": "execute_result"
    }
   ],
   "source": [
    "# 1D Array\n",
    "a = np.array([0, 1, 2, 3, 4])\n",
    "b = np.array((0, 1, 2, 3, 4))\n",
    "c = np.arange(5)\n",
    "d = np.linspace(0, 2*np.pi, 5)\n",
    "\n",
    "a,b,c,d"
   ]
  },
  {
   "cell_type": "code",
   "execution_count": 37,
   "metadata": {},
   "outputs": [
    {
     "name": "stdout",
     "output_type": "stream",
     "text": [
      "25\n"
     ]
    }
   ],
   "source": [
    "# MD Array,\n",
    "a = np.array([[11, 12, 13, 14, 15],\n",
    "              [16, 17, 18, 19, 20],\n",
    "              [21, 22, 23, 24, 25],\n",
    "              [26, 27, 28 ,29, 30],\n",
    "              [31, 32, 33, 34, 35]])\n",
    "\n",
    "print(a[2,4]) "
   ]
  },
  {
   "cell_type": "code",
   "execution_count": null,
   "metadata": {},
   "outputs": [],
   "source": [
    "# for line in locals()['In']:\n",
    "#     print(line)\n",
    "#history"
   ]
  },
  {
   "cell_type": "code",
   "execution_count": 6,
   "metadata": {},
   "outputs": [
    {
     "data": {
      "text/plain": [
       "(numpy.ndarray, dtype('int32'), (3, 4), 4)"
      ]
     },
     "execution_count": 6,
     "metadata": {},
     "output_type": "execute_result"
    }
   ],
   "source": [
    "# 数组属性\n",
    "import numpy as np\n",
    "\n",
    "a = np.array([[1,2,3,5],[2,3,5,3],[3,4,6,6]])\n",
    "\n",
    "type(a),a.dtype,a.shape,a.itemsize"
   ]
  },
  {
   "cell_type": "code",
   "execution_count": 1,
   "metadata": {},
   "outputs": [
    {
     "name": "stdout",
     "output_type": "stream",
     "text": [
      "test\n"
     ]
    }
   ],
   "source": [
    "print(\"test\")"
   ]
  },
  {
   "cell_type": "code",
   "execution_count": 8,
   "metadata": {},
   "outputs": [
    {
     "data": {
      "text/plain": [
       "(array([0, 1, 2, 3, 4, 5, 6, 7, 8, 9]),\n",
       " 45,\n",
       " 0,\n",
       " 9,\n",
       " array([ 0,  1,  3,  6, 10, 15, 21, 28, 36, 45], dtype=int32))"
      ]
     },
     "execution_count": 8,
     "metadata": {},
     "output_type": "execute_result"
    }
   ],
   "source": [
    "# 数据的特殊运算\n",
    "a = np.arange(10)\n",
    "a,a.sum(),a.min(),a.max(),a.cumsum()"
   ]
  },
  {
   "cell_type": "code",
   "execution_count": 23,
   "metadata": {},
   "outputs": [
    {
     "data": {
      "text/plain": [
       "[<matplotlib.lines.Line2D at 0x1c48e482f60>]"
      ]
     },
     "execution_count": 23,
     "metadata": {},
     "output_type": "execute_result"
    },
    {
     "data": {
      "image/png": "[encoded data removed]",
      "text/plain": [
       "<Figure size 432x288 with 1 Axes>"
      ]
     },
     "metadata": {
      "needs_background": "light"
     },
     "output_type": "display_data"
    }
   ],
   "source": [
    "# 布尔屏蔽\n",
    "import matplotlib.pyplot as plt\n",
    "\n",
    "a = np.linspace(0,2*np.pi,50)   #0~2pi之间，50个间断点\n",
    "b = np.sin(a)\n",
    "plt.plot(a,b)\n",
    "plt.plot(a[b>=0],b[b>=0],'bo')\n",
    "\n",
    "mask = (b>=0) & (a<=np.pi/2)\n",
    "plt.plot(a[mask],b[mask],'go')"
   ]
  }
 ],
 "metadata": {
  "kernelspec": {
   "display_name": "Python 3",
   "language": "python",
   "name": "python3"
  },
  "language_info": {
   "codemirror_mode": {
    "name": "ipython",
    "version": 3
   },
   "file_extension": ".py",
   "mimetype": "text/x-python",
   "name": "python",
   "nbconvert_exporter": "python",
   "pygments_lexer": "ipython3",
   "version": "3.7.2"
  },
  "toc": {
   "base_numbering": 1,
   "nav_menu": {},
   "number_sections": true,
   "sideBar": true,
   "skip_h1_title": false,
   "title_cell": "Table of Contents",
   "title_sidebar": "Contents",
   "toc_cell": false,
   "toc_position": {},
   "toc_section_display": true,
   "toc_window_display": false
  }
 },
 "nbformat": 4,
 "nbformat_minor": 1
}
