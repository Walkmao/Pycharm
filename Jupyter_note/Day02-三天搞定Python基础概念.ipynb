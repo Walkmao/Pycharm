{
 "cells": [
  {
   "cell_type": "markdown",
   "metadata": {},
   "source": [
    "## 模块导入"
   ]
  },
  {
   "cell_type": "markdown",
   "metadata": {},
   "source": [
    "- NumPy：多维数组的有效操作。 高效的数学函数。\n",
    "\n",
    "- Matplotlib：可视化：2D和（最近）3D图\n",
    "\n",
    "- SciPy：大型库实现各种数值算法，例如：           \n",
    "\n",
    "    - 线性和非线性方程的解\n",
    "    - 优化\n",
    "    - 数值整合\n",
    "    \n",
    "- Sympy：符号计算（解析的 Analytical）\n",
    "\n",
    "- Pandas：统计与数据分析（明天）"
   ]
  },
  {
   "cell_type": "markdown",
   "metadata": {},
   "source": [
    "## numpy"
   ]
  },
  {
   "cell_type": "code",
   "execution_count": 11,
   "metadata": {},
   "outputs": [
    {
     "name": "stdout",
     "output_type": "stream",
     "text": [
      "[0. 1. 2.] [0.    0.625 1.25  1.875 2.5  ]\n"
     ]
    },
    {
     "data": {
      "text/plain": [
       "((2, 3), 2, 6)"
      ]
     },
     "execution_count": 11,
     "metadata": {},
     "output_type": "execute_result"
    }
   ],
   "source": [
    "import numpy as np\n",
    "\n",
    "n1 = np.arange(0,2.5)\n",
    "n2 = np.linspace(0.,2.5,5)\n",
    "print(n1,n2)\n",
    "\n",
    "n3 = np.array([[1,2,3],[3,4,5]])\n",
    "n3.shape,n3.ndim,n3.size"
   ]
  },
  {
   "cell_type": "code",
   "execution_count": 16,
   "metadata": {
    "collapsed": true
   },
   "outputs": [
    {
     "name": "stdout",
     "output_type": "stream",
     "text": [
      "[ 0  1  2  3  4  5  6  7  8  9 10 11 12 13 14 15 16 17 18 19] \n",
      " [[ 0  1  2  3  4]\n",
      " [ 5  6  7  8  9]\n",
      " [10 11 12 13 14]\n",
      " [15 16 17 18 19]] \n",
      " [[ 0]\n",
      " [ 1]\n",
      " [ 2]\n",
      " [ 3]\n",
      " [ 4]\n",
      " [ 5]\n",
      " [ 6]\n",
      " [ 7]\n",
      " [ 8]\n",
      " [ 9]\n",
      " [10]\n",
      " [11]\n",
      " [12]\n",
      " [13]\n",
      " [14]\n",
      " [15]\n",
      " [16]\n",
      " [17]\n",
      " [18]\n",
      " [19]] \n",
      " [[ 0  1  2  3]\n",
      " [ 4  5  6  7]\n",
      " [ 8  9 10 11]\n",
      " [12 13 14 15]\n",
      " [16 17 18 19]]\n"
     ]
    }
   ],
   "source": [
    "a = np.arange(0,20,1)\n",
    "b = a.reshape((4,5))\n",
    "c = a.reshape((20,1))\n",
    "d = a.reshape((-1,4))\n",
    "# a.reshape = (4,5)\n",
    "print(a,'\\n',b,'\\n',c,'\\n',d)"
   ]
  },
  {
   "cell_type": "code",
   "execution_count": 19,
   "metadata": {},
   "outputs": [
    {
     "name": "stdout",
     "output_type": "stream",
     "text": [
      "55\n",
      "55\n",
      "[[ 1  2  3  4  5]\n",
      " [ 2  4  6  8 10]\n",
      " [ 3  6  9 12 15]\n",
      " [ 4  8 12 16 20]\n",
      " [ 5 10 15 20 25]]\n"
     ]
    }
   ],
   "source": [
    "import numpy as np\n",
    "\n",
    "a = np.array([1,2,3,4,5])\n",
    "b = a.copy ()\n",
    "\n",
    "c1 =  np.dot(np.transpose(a), b)\n",
    "print(c1)\n",
    "c2  = np.dot(a, np.transpose(b))\n",
    "print(c2)\n",
    "\n",
    "ax  =  np.reshape(a, (5,1))\n",
    "bx  =  np.reshape(b, (1,5))\n",
    "c = np.dot(ax, bx)\n",
    "print(c)"
   ]
  },
  {
   "cell_type": "code",
   "execution_count": 29,
   "metadata": {},
   "outputs": [],
   "source": [
    "# 将数组保存到文件\n",
    "a1 = np.linspace(0.,1,12).reshape(3,4)\n",
    "np.savetxt(\"myfile\",a)  #savetxt()将表保存到文本文件。\n",
    "np.save(\"mysfile2\",a)  \n",
    "# save()将表保存为Numpy“.npy”格式的二进制文件,- \n",
    "# 生成一个二进制文件myfile .npy，其中包含一个可以使用np.load（）"
   ]
  },
  {
   "cell_type": "markdown",
   "metadata": {},
   "source": [
    "## Scipy"
   ]
  },
  {
   "cell_type": "markdown",
   "metadata": {},
   "source": [
    "### Scipy的结构\n",
    "\n",
    "- scipy.integrate - >积分和普通微分方程\n",
    "- scipy.linalg - >线性代数\n",
    "- scipy.ndimage - >图像处理\n",
    "- scipy.optimize - >优化和根查找(root finding)\n",
    "- scipy.special - >特殊功能\n",
    "- scipy.stats - >统计功能"
   ]
  },
  {
   "cell_type": "markdown",
   "metadata": {},
   "source": [
    "### 线性代数"
   ]
  },
  {
   "cell_type": "code",
   "execution_count": 37,
   "metadata": {},
   "outputs": [
    {
     "name": "stdout",
     "output_type": "stream",
     "text": [
      "[[0.0202048  0.90605089]\n",
      " [0.39752116 0.72251978]] \n",
      " (array([-0.32396927+0.j,  1.06669385+0.j]), array([[-0.93482649, -0.65455657],\n",
      "       [ 0.35510482, -0.75601303]])) \n",
      " -0.3455760293541259\n"
     ]
    }
   ],
   "source": [
    "import numpy as np\n",
    "from scipy import linalg\n",
    "\n",
    "A = np.random.rand(2,2)\n",
    "b = np.random.randn(2)\n",
    "x = linalg.solve(A,b)  # A x = b\n",
    "\n",
    "eigen = linalg.eig(A)  #求特征向量\n",
    "det = linalg.det(A)  #求行列式\n",
    "\n",
    "print(A,'\\n',eigen,'\\n',det)"
   ]
  },
  {
   "cell_type": "markdown",
   "metadata": {},
   "source": [
    "### 数据拟合"
   ]
  },
  {
   "cell_type": "code",
   "execution_count": 55,
   "metadata": {},
   "outputs": [
    {
     "data": {
      "text/plain": [
       "Text(0.5, 1.0, '$f(x)=ae^{-bx}+c$ curve fitting')"
      ]
     },
     "execution_count": 55,
     "metadata": {},
     "output_type": "execute_result"
    },
    {
     "data": {
      "image/png": "[encoded data removed]",
      "text/plain": [
       "<Figure size 432x288 with 1 Axes>"
      ]
     },
     "metadata": {
      "needs_background": "light"
     },
     "output_type": "display_data"
    }
   ],
   "source": [
    "from scipy.optimize import curve_fit\n",
    "import matplotlib.pyplot as plt\n",
    "\n",
    "def func(x, a, b, c):    \n",
    "    return a * np.exp(-b * x) + c\n",
    "\n",
    "x = np.linspace(0, 4, 50)\n",
    "\n",
    "y = func(x, 2.5, 1.3, 0.5)\n",
    "ydata = y+0.2*np.random.normal(size=len(x))\n",
    "popt, pcov = curve_fit(func, x, ydata)\n",
    "plt.plot(x, ydata, 'b*')\n",
    "plt.plot(x, func(x, popt[0], popt[1], popt[2]),'r-')\n",
    "plt.title('$f(x)=ae^{-bx}+c$ curve fitting')"
   ]
  },
  {
   "cell_type": "markdown",
   "metadata": {},
   "source": [
    "### 根搜索"
   ]
  },
  {
   "cell_type": "code",
   "execution_count": 59,
   "metadata": {},
   "outputs": [
    {
     "name": "stdout",
     "output_type": "stream",
     "text": [
      "-1.1681989617238742\n"
     ]
    }
   ],
   "source": [
    "import numpy as np\n",
    "from scipy import optimize\n",
    "\n",
    "def fun(x):\n",
    "    return np.exp(np.exp(x)) - x**2\n",
    "\n",
    "# 通过初始化点0，找到兴趣0 (find zero of fun with initial point 0)\n",
    "# 通过Newton-Raphson方法 (by Newton-Raphson)\n",
    "value1 = optimize.newton(fun, 0)\n",
    "\n",
    "# 通过二分法找到介于(-5,5)之间的 (find zero between (-5,5) by bisection)\n",
    "value2 = optimize.bisect(fun, -5, 5)\n",
    "print(value2)"
   ]
  },
  {
   "cell_type": "markdown",
   "metadata": {},
   "source": [
    "## Matplotlib"
   ]
  }
 ],
 "metadata": {
  "kernelspec": {
   "display_name": "Python 3",
   "language": "python",
   "name": "python3"
  },
  "language_info": {
   "codemirror_mode": {
    "name": "ipython",
    "version": 3
   },
   "file_extension": ".py",
   "mimetype": "text/x-python",
   "name": "python",
   "nbconvert_exporter": "python",
   "pygments_lexer": "ipython3",
   "version": "3.7.2"
  },
  "toc": {
   "base_numbering": 1,
   "nav_menu": {},
   "number_sections": true,
   "sideBar": true,
   "skip_h1_title": false,
   "title_cell": "Table of Contents",
   "title_sidebar": "Contents",
   "toc_cell": false,
   "toc_position": {},
   "toc_section_display": true,
   "toc_window_display": false
  }
 },
 "nbformat": 4,
 "nbformat_minor": 2
}
