{
 "cells": [
  {
   "cell_type": "code",
   "execution_count": 2,
   "metadata": {},
   "outputs": [
    {
     "name": "stdout",
     "output_type": "stream",
     "text": [
      "执行任务0执行任务1\n",
      "\n",
      "执行任务2\n",
      "执行任务3执行任务4\n",
      "\n",
      "执行任务5执行任务6\n",
      "\n",
      "执行任务7\n",
      "执行任务8执行任务9\n",
      "\n",
      "一共用时： 2.0254719257354736\n"
     ]
    }
   ],
   "source": [
    "import time\n",
    "import threading\n",
    "import queue\n",
    "\n",
    "def produce(q):\n",
    "    for i in range(10):\n",
    "        q.put(i)\n",
    "\n",
    "def customer(q):\n",
    "    while True:\n",
    "        try:\n",
    "            task = q.get(block=False)  # 以非阻塞的方式获取任务\n",
    "        except queue.Empty:\n",
    "            break\n",
    "        print(\"执行任务{task}\".format(task=task))\n",
    "        crawl()\n",
    "\n",
    "def crawl():\n",
    "    \"\"\"\n",
    "    在这里写爬虫代码\n",
    "    :return:\n",
    "    \"\"\"\n",
    "    time.sleep(1)\n",
    "    write_data()\n",
    "\n",
    "def write_data():\n",
    "    \"\"\"\n",
    "    将结果写入指定存储介质\n",
    "    :return:\n",
    "    \"\"\"\n",
    "    pass\n",
    "\n",
    "def main():\n",
    "    q = queue.Queue()\n",
    "    produce(q)      # 先生产任务\n",
    "\n",
    "    # 启动多线程,消费任务\n",
    "    threads = []\n",
    "    for i in range(5):  #启动5个线程\n",
    "        t = threading.Thread(target=customer, args=(q, ))\n",
    "        threads.append(t)\n",
    "\n",
    "    for t in threads:\n",
    "        t.start()\n",
    "\n",
    "    for t in threads:\n",
    "        t.join()\n",
    "\n",
    "if __name__ == '__main__':\n",
    "    start_time = time.time()\n",
    "    main()\n",
    "    print('一共用时：', time.time()-start_time)\n"
   ]
  },
  {
   "cell_type": "code",
   "execution_count": 3,
   "metadata": {},
   "outputs": [
    {
     "name": "stdout",
     "output_type": "stream",
     "text": [
      "0\n",
      "1\n",
      "4\n",
      "2\n",
      "3\n",
      "5\n",
      "6\n",
      "8\n",
      "7\n",
      "9\n"
     ]
    }
   ],
   "source": [
    "'''\n",
    "2、 线程池模式\n",
    "线程池模式相比于前面讲的生产者与消费者模式要简单很多，这种模式做了许多封装，\n",
    "让我们不必关心背后的细节，我们只需要将任务推给线程池，然后等待返回结果即可\n",
    "'''\n",
    "\n",
    "import time\n",
    "from concurrent.futures import as_completed\n",
    "from concurrent.futures import ThreadPoolExecutor\n",
    "\n",
    "def worker(url):\n",
    "    \"\"\"\n",
    "    爬取数据\n",
    "    :param url:\n",
    "    :return:\n",
    "    \"\"\"\n",
    "    time.sleep(1)\n",
    "    return url\n",
    "\n",
    "def main():\n",
    "    moive_url_lst = [i for i in range(10)]  # 需要爬取的url集合\n",
    "    tpool = ThreadPoolExecutor(max_workers=5)  # 创建一个线程池,大小为5\n",
    "    result = []\n",
    "    for url in moive_url_lst:\n",
    "        t = tpool.submit(worker, url)       # 提交任务\n",
    "        result.append(t)\n",
    "\n",
    "    for t in as_completed(result):          # 等待任务结束\n",
    "        data = t.result()                   # 获取结果\n",
    "        save_result(data)\n",
    "\n",
    "def save_result(result):\n",
    "    \"\"\"\n",
    "    保存数据\n",
    "    :param result:\n",
    "    :return:\n",
    "    \"\"\"\n",
    "    print(result)\n",
    "\n",
    "if __name__ == '__main__':\n",
    "    main()"
   ]
  }
 ],
 "metadata": {
  "kernelspec": {
   "display_name": "Python 3",
   "language": "python",
   "name": "python3"
  },
  "language_info": {
   "codemirror_mode": {
    "name": "ipython",
    "version": 3
   },
   "file_extension": ".py",
   "mimetype": "text/x-python",
   "name": "python",
   "nbconvert_exporter": "python",
   "pygments_lexer": "ipython3",
   "version": "3.7.2"
  }
 },
 "nbformat": 4,
 "nbformat_minor": 2
}
