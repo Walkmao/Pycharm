{
 "cells": [
  {
   "cell_type": "markdown",
   "metadata": {
    "collapsed": true
   },
   "source": [
    "**1.安装**  \n",
    "pip install myqr\n",
    "\n",
    "---\n",
    "**2.普通二维码**    \n",
    "myqr https://walkmao.top\n",
    "\n",
    "---\n",
    "- 改变二维码边长\n",
    "myqr https://walkmao.top -v 10\n",
    "\n",
    "---\n",
    "- 图片命名  \n",
    "myqr https://walkmao.top -v 10 -n mirco.jpg\n",
    "\n",
    "---\n",
    "**3.艺术二维码**\n",
    "> 传入参数：'-p d:\\1.jpg'\n",
    "> 色彩参数：‘-c’\n",
    "\n",
    "myqr https://walkmao.top  -p d:\\1.jpg -c\n",
    "\n",
    "---\n",
    "**4.动态二维码**  \n",
    "动态二维码的制作和艺术二维码一样，只需要传入的图片是gif格式，输出二维码图片也是gif格式\n",
    "\n",
    "\n",
    "\n",
    "\n",
    "\n"
   ]
  }
 ],
 "metadata": {
  "kernelspec": {
   "display_name": "Python 3",
   "language": "python",
   "name": "python3"
  },
  "language_info": {
   "codemirror_mode": {
    "name": "ipython",
    "version": 3
   },
   "file_extension": ".py",
   "mimetype": "text/x-python",
   "name": "python",
   "nbconvert_exporter": "python",
   "pygments_lexer": "ipython3",
   "version": "3.7.2"
  }
 },
 "nbformat": 4,
 "nbformat_minor": 1
}
